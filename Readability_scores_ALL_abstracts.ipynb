{
 "cells": [
  {
   "cell_type": "code",
   "execution_count": 1,
   "metadata": {},
   "outputs": [],
   "source": [
    "import json\n",
    "import sys\n",
    "import gzip\n",
    "import textstat\n",
    "import numpy as np\n",
    "import pandas as pd\n",
    "import readability\n",
    "from nltk.tokenize import sent_tokenize, word_tokenize\n",
    "import matplotlib.pyplot as plt\n",
    "from scipy.stats import kde"
   ]
  },
  {
   "cell_type": "code",
   "execution_count": 2,
   "metadata": {},
   "outputs": [],
   "source": [
    "input_name = 'dblp1-test.json.gz'\n",
    "sample = 10;\n",
    "name        = 'dblp1-test'\n",
    "input_name = 'dblp1.json.gz'\n",
    "sample = 50;\n",
    "name        = 'dblp1'\n",
    "input_name  = f'{name}.json.gz'\n",
    "output_name = f'{name}-every{sample}.json'\n",
    "\n",
    "data = []\n",
    "\n",
    "# using `with`\n",
    "counter = 1\n",
    "with gzip.open(input_name) as f:\n",
    "    for i in f:\n",
    "        counter -= 1\n",
    "        if counter == 0:\n",
    "            counter = sample\n",
    "            i = i.decode('utf-8')\n",
    "            data.append(json.loads(i))\n",
    "\n",
    "with open(output_name, 'w', encoding='utf-8') as f_out:\n",
    "    for i in data:\n",
    "        json.dump(i, f_out)\n",
    "        f_out.write('\\n')\n",
    "\n",
    "# Corpus stays json per line, so either parse this one by one, or (memory permitting) with dataframes.\n",
    "# so read with pd.read_json(source, lines=True)  and pd.json_normalize(data['_source'], max_level=2)"
   ]
  },
  {
   "cell_type": "code",
   "execution_count": 5,
   "metadata": {},
   "outputs": [
    {
     "name": "stdout",
     "output_type": "stream",
     "text": [
      "69655\n"
     ]
    }
   ],
   "source": [
    "# Total abstracts \n",
    "print(len(data))"
   ]
  },
  {
   "cell_type": "code",
   "execution_count": 4,
   "metadata": {},
   "outputs": [],
   "source": [
    "# removing empty abstracts\n",
    "clean_data = []\n",
    "for line in data:\n",
    "    if len(line['_source']['abstract']) == 0 or len(line['_source']['abstract']) > 1250:\n",
    "        data.remove(line)\n",
    "    else:\n",
    "        clean_data.append(line)"
   ]
  },
  {
   "cell_type": "code",
   "execution_count": 6,
   "metadata": {},
   "outputs": [
    {
     "name": "stdout",
     "output_type": "stream",
     "text": [
      "60851\n"
     ]
    }
   ],
   "source": [
    "# after removing the empty abstracts and the abstracts that are \n",
    "# too long(>1250), there are 56710 abstracts left\n",
    "print(len(clean_data))"
   ]
  },
  {
   "cell_type": "code",
   "execution_count": 7,
   "metadata": {},
   "outputs": [],
   "source": [
    "# tokenizing abstracts and calculating readability scores\n",
    "fers = [] # fers = flesch ease reading score\n",
    "for line in clean_data:\n",
    "    abstract = line['_source']['abstract']\n",
    "    abstract = word_tokenize(abstract)\n",
    "    score = readability.getmeasures(abstract, lang='en')\n",
    "    fers.append(score['readability grades']['FleschReadingEase'])"
   ]
  },
  {
   "cell_type": "code",
   "execution_count": 96,
   "metadata": {},
   "outputs": [
    {
     "name": "stdout",
     "output_type": "stream",
     "text": [
      "This paper describes how the early visual process of contour organisation can be realised using the EM algorithm. The underlying computational representation is based on fine spline coverings. According to our EM approach the adjustment of spline parameters draws on an iterative weighted least-squares fitting process. The expectation step of our EM procedure computes the likelihood of the data using a mixture model defined over the set of spline coverings. These splines are limited in their spatial extent using Gaussian windowing functions. The maximisation of the likelihood leads to a set of linear equations in the spline parameters which solve the weighted least squares problem. We evaluate the technique on the localisation of road structures in aerial infra-red images. \n"
     ]
    },
    {
     "data": {
      "text/plain": [
       "57.29319561157797"
      ]
     },
     "execution_count": 96,
     "metadata": {},
     "output_type": "execute_result"
    }
   ],
   "source": [
    "print(clean_data[19000]['_source']['abstract'])\n",
    "fers[19000]['readability grades']['FleschReadingEase']"
   ]
  },
  {
   "cell_type": "code",
   "execution_count": 8,
   "metadata": {},
   "outputs": [
    {
     "data": {
      "image/png": "[encoded data removed]",
      "text/plain": [
       "<matplotlib.figure.Figure at 0x7fe616c336a0>"
      ]
     },
     "metadata": {},
     "output_type": "display_data"
    }
   ],
   "source": [
    "# distribution flesch ease reading score of 50000+ abstracts\n",
    "bins = [-10, -5, 0, 5, 10, 15, 20, 25, 30, 35, 40, 45, 50, 55, 60, 65, 70, 75, 80, 85, 90, 95, 100]\n",
    "plt.hist(fers, bins=bins, color='orange', edgecolor='w')\n",
    "plt.xlabel('Flesch ease reading score')\n",
    "plt.ylabel('Frequency')\n",
    "plt.title('Distribution of flesch ease reading score of the abstracts')\n",
    "plt.show()"
   ]
  },
  {
   "cell_type": "code",
   "execution_count": 9,
   "metadata": {},
   "outputs": [
    {
     "data": {
      "text/plain": [
       "52.91721031699326"
      ]
     },
     "execution_count": 9,
     "metadata": {},
     "output_type": "execute_result"
    }
   ],
   "source": [
    "# Gemiddelde flesh reading ease score\n",
    "average_fers = sum(fers) / len(fers)\n",
    "average_fers"
   ]
  },
  {
   "cell_type": "code",
   "execution_count": 47,
   "metadata": {},
   "outputs": [
    {
     "data": {
      "text/plain": [
       "{'abstract': 'Humanoid robots should be able to interact with humans in a familiar way since they are going to play a significant role in the future. Thus, it is necessary that Human-Robot Interaction (HRI) is designed in such a way that allows humans to communicate with robots effortlessly and naturally. Emotions play an important role in this interaction since humans feel more predisposed to interact with robots if they are able to create an affective bond with them. In this study, we want to know whether humans are able to empathize with a humanoid robot. Therefore, in the present research, we are going to recreate a Milgram experiment in which we expect participants to empathize with the robot while playing a matching game. Like in Milgram’s experiment, they will have to give fake electrical shocks to the robot thinking that they are punishing it. In that way, an empathic state, which we expect to see in our results, may be induced. ',\n",
       " 'author': {'id': '', 'name': '', 'org': ''},\n",
       " 'authors': [{'id': 2303167604,\n",
       "   'name': 'Marina Sardà Gou',\n",
       "   'org': 'Universitat Pompeu Fabra'},\n",
       "  {'id': 2036956354,\n",
       "   'name': 'Vasiliki Vouloutsi',\n",
       "   'org': 'Universitat Pompeu Fabra'},\n",
       "  {'id': 287165808,\n",
       "   'name': 'Klaudia Grechuta',\n",
       "   'org': 'Universitat Pompeu Fabra'},\n",
       "  {'id': 249939002,\n",
       "   'name': 'Stéphane Lallée',\n",
       "   'org': 'Universitat Pompeu Fabra'},\n",
       "  {'id': 268154561,\n",
       "   'name': 'Paul F. M. J. Verschure',\n",
       "   'org': 'Universitat Pompeu Fabra ,'}],\n",
       " 'doc_type': 'Conference',\n",
       " 'doi': '10.1007/978-3-319-09435-9_50',\n",
       " 'fos': [{'name': 'Empathy', 'w': 0.47747},\n",
       "  {'name': 'Matching game', 'w': 0},\n",
       "  {'name': 'Milgram experiment', 'w': 0.54539},\n",
       "  {'name': 'Psychology', 'w': 0.3932},\n",
       "  {'name': 'Human–computer interaction', 'w': 0.42569},\n",
       "  {'name': 'Robot', 'w': 0.47505},\n",
       "  {'name': 'Humanoid robot', 'w': 0.61895}],\n",
       " 'id': 364462331,\n",
       " 'issue': '',\n",
       " 'n_citation': 1,\n",
       " 'nb_references': 2,\n",
       " 'page_end': '426',\n",
       " 'page_start': '423',\n",
       " 'publisher': 'Springer, Cham',\n",
       " 'references': [2035128922, 2099019320],\n",
       " 'title': 'Empathy in Humanoid Robots',\n",
       " 'venue': {'id': 2754283107,\n",
       "  'raw': 'Conference on Biomimetic and Biohybrid Systems',\n",
       "  'type': 'C'},\n",
       " 'volume': '',\n",
       " 'year': 2014}"
      ]
     },
     "execution_count": 47,
     "metadata": {},
     "output_type": "execute_result"
    }
   ],
   "source": [
    "print(data[1]['_source']['abstract'])"
   ]
  }
 ],
 "metadata": {
  "kernelspec": {
   "display_name": "Python 3",
   "language": "python",
   "name": "python3"
  },
  "language_info": {
   "codemirror_mode": {
    "name": "ipython",
    "version": 3
   },
   "file_extension": ".py",
   "mimetype": "text/x-python",
   "name": "python",
   "nbconvert_exporter": "python",
   "pygments_lexer": "ipython3",
   "version": "3.6.9"
  }
 },
 "nbformat": 4,
 "nbformat_minor": 2
}
